{
 "cells": [
  {
   "cell_type": "markdown",
   "id": "bronze-transsexual",
   "metadata": {},
   "source": [
    "# Import `gym` first"
   ]
  },
  {
   "cell_type": "code",
   "execution_count": 1,
   "id": "liable-essence",
   "metadata": {},
   "outputs": [],
   "source": [
    "import gym"
   ]
  },
  {
   "cell_type": "markdown",
   "id": "forced-stuff",
   "metadata": {},
   "source": [
    "# Checking `gym` installation. If popup image appears, installation is successful."
   ]
  },
  {
   "cell_type": "code",
   "execution_count": 2,
   "id": "scenic-kitty",
   "metadata": {},
   "outputs": [
    {
     "data": {
      "text/plain": [
       "True"
      ]
     },
     "execution_count": 2,
     "metadata": {},
     "output_type": "execute_result"
    }
   ],
   "source": [
    "env = gym.make(\"CartPole-v0\")\n",
    "observation = env.reset()\n",
    "env.render()"
   ]
  },
  {
   "cell_type": "markdown",
   "id": "original-monte",
   "metadata": {},
   "source": [
    "# The close button does not close the popup window. Here is how to close it."
   ]
  },
  {
   "cell_type": "code",
   "execution_count": 3,
   "id": "maritime-prison",
   "metadata": {},
   "outputs": [],
   "source": [
    "env.close()"
   ]
  }
 ],
 "metadata": {
  "kernelspec": {
   "display_name": "Python 3",
   "language": "python",
   "name": "python3"
  },
  "language_info": {
   "codemirror_mode": {
    "name": "ipython",
    "version": 3
   },
   "file_extension": ".py",
   "mimetype": "text/x-python",
   "name": "python",
   "nbconvert_exporter": "python",
   "pygments_lexer": "ipython3",
   "version": "3.8.8"
  }
 },
 "nbformat": 4,
 "nbformat_minor": 5
}
