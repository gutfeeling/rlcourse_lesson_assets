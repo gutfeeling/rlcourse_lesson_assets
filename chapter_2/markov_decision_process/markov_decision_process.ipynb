{
 "cells": [
  {
   "cell_type": "markdown",
   "metadata": {},
   "source": [
    "# In the lessons: `CartPole-v0`\n",
    "\n",
    "![](cartpole.jpg)"
   ]
  },
  {
   "cell_type": "markdown",
   "metadata": {},
   "source": [
    "# In the exercises: `MountainCar-v0`\n",
    "\n",
    "![](mountain_car.jpg)"
   ]
  },
  {
   "cell_type": "markdown",
   "metadata": {},
   "source": [
    "# Goal in these environments (any RL problem)\n",
    "\n",
    "Maximize the total rewards per episode."
   ]
  },
  {
   "cell_type": "markdown",
   "metadata": {},
   "source": [
    "# Good news!\n",
    "\n",
    "There is a mathematically provable way of taking actions that maximizes the total rewards per episode, *but only if the dynamics of the system satisfies certain conditions*."
   ]
  }
 ],
 "metadata": {
  "kernelspec": {
   "display_name": "Python 3",
   "language": "python",
   "name": "python3"
  },
  "language_info": {
   "codemirror_mode": {
    "name": "ipython",
    "version": 3
   },
   "file_extension": ".py",
   "mimetype": "text/x-python",
   "name": "python",
   "nbconvert_exporter": "python",
   "pygments_lexer": "ipython3",
   "version": "3.8.8"
  }
 },
 "nbformat": 4,
 "nbformat_minor": 4
}
