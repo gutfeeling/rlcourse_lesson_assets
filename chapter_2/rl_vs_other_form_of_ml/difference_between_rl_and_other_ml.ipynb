{
 "cells": [
  {
   "cell_type": "markdown",
   "metadata": {},
   "source": [
    "# Markov Decision Processes (MDP) is *not* under the agent's control.\n",
    "\n",
    "These are all properties of the environment.\n",
    "\n",
    "- The set of states $s$.\n",
    "- The set of actions $a$.\n",
    "- The state transition probabilities $P_{ss^{'}}^a$.\n",
    "- The reward function $r_{ss^{'}}^a$."
   ]
  },
  {
   "cell_type": "markdown",
   "metadata": {},
   "source": [
    "# The only thing that is under the control of the agent\n",
    "\n",
    "- The action that the agent *chooses* in a given environment state.\n",
    "- This choice of action controls its fate and how the MDP is going to unfold in an episode."
   ]
  },
  {
   "cell_type": "code",
   "execution_count": null,
   "metadata": {},
   "outputs": [],
   "source": []
  }
 ],
 "metadata": {
  "kernelspec": {
   "display_name": "Python 3",
   "language": "python",
   "name": "python3"
  },
  "language_info": {
   "codemirror_mode": {
    "name": "ipython",
    "version": 3
   },
   "file_extension": ".py",
   "mimetype": "text/x-python",
   "name": "python",
   "nbconvert_exporter": "python",
   "pygments_lexer": "ipython3",
   "version": "3.8.8"
  }
 },
 "nbformat": 4,
 "nbformat_minor": 4
}
